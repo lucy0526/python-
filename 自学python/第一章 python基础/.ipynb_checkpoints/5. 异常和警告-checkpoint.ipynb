{
 "cells": [
  {
   "cell_type": "markdown",
   "metadata": {},
   "source": [
    "### 1. 捕捉异常"
   ]
  },
  {
   "cell_type": "code",
   "execution_count": 2,
   "metadata": {},
   "outputs": [
    {
     "name": "stdout",
     "output_type": "stream",
     "text": [
      ">q\n",
      "not right\n"
     ]
    }
   ],
   "source": [
    "import math \n",
    "while True:\n",
    "    try:\n",
    "    #     从命令行中读取输入\n",
    "        text = raw_input('>')\n",
    "    #     直到输入q，退出程序\n",
    "        if text[0] == 'q':\n",
    "            break\n",
    "\n",
    "#         x = float(text)\n",
    "#         y = 1/math.log10(x)\n",
    "#         print '1/log10({0}) = {1}'.format(x, y)\n",
    "#     except ValueError:\n",
    "#         print \"the value is wrong!\"\n",
    "#     except Exception as e:# 捕捉所有异常\n",
    "#         print e.message\n",
    "# #         抛出异常\n",
    "#     raise ValueError('not right')\n",
    "    finally:\n",
    "        print 'not right'"
   ]
  },
  {
   "cell_type": "markdown",
   "metadata": {},
   "source": [
    "### 2. 警告"
   ]
  },
  {
   "cell_type": "code",
   "execution_count": null,
   "metadata": {},
   "outputs": [],
   "source": []
  }
 ],
 "metadata": {
  "kernelspec": {
   "display_name": "Python 2",
   "language": "python",
   "name": "python2"
  },
  "language_info": {
   "codemirror_mode": {
    "name": "ipython",
    "version": 2
   },
   "file_extension": ".py",
   "mimetype": "text/x-python",
   "name": "python",
   "nbconvert_exporter": "python",
   "pygments_lexer": "ipython2",
   "version": "2.7.16"
  }
 },
 "nbformat": 4,
 "nbformat_minor": 2
}
